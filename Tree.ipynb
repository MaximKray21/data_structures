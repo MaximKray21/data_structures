{
 "cells": [
  {
   "cell_type": "code",
   "execution_count": null,
   "id": "5b366583",
   "metadata": {},
   "outputs": [],
   "source": [
    "class TreeNode:\n",
    "    \n",
    "    def __init__(self, val = None, left = None, right = None):\n",
    "        self.val = val\n",
    "        self.left = left\n",
    "        self.right = right\n",
    "\n",
    "class BinarySearchTree:\n",
    "    \n",
    "    def __init__(self, nodes = []):\n",
    "        self.nodes = nodes\n",
    "    \n",
    "    def make_tree(self):\n",
    "        \n",
    "        ind = 0\n",
    "        \n",
    "        while ind < len(self.nodes):\n",
    "            \n",
    "            self.nodes[ind] = TreeNode(self.nodes[ind])\n",
    "            \n",
    "            if 2 * ind + 1 < len(self.nodes):\n",
    "                self.nodes[ind].left = TreeNode(val = self.nodes[2 * ind + 1])\n",
    "            \n",
    "            if 2 * ind + 2 < len(self.nodes):\n",
    "                self.nodes[ind].right = TreeNode(val = self.nodes[2 * ind + 2])\n",
    "            \n",
    "            ind += 1\n",
    "    \n",
    "    def show_tree_nums(self):\n",
    "        \n",
    "        tree = []\n",
    "        \n",
    "        for i in self.nodes:\n",
    "            tree.append(i.val)\n",
    "        \n",
    "        print(*tree)\n",
    "        \n",
    "tree = BinarySearchTree([1,2,3,4,5])\n",
    "tree.make_tree()\n",
    "tree.show_tree_nums()"
   ]
  }
 ],
 "metadata": {
  "kernelspec": {
   "display_name": "Python 3 (ipykernel)",
   "language": "python",
   "name": "python3"
  },
  "language_info": {
   "codemirror_mode": {
    "name": "ipython",
    "version": 3
   },
   "file_extension": ".py",
   "mimetype": "text/x-python",
   "name": "python",
   "nbconvert_exporter": "python",
   "pygments_lexer": "ipython3",
   "version": "3.9.7"
  }
 },
 "nbformat": 4,
 "nbformat_minor": 5
}
