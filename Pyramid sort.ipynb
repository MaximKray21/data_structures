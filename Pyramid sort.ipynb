{
 "cells": [
  {
   "cell_type": "code",
   "execution_count": null,
   "id": "8e5d1654",
   "metadata": {},
   "outputs": [],
   "source": [
    "# class heap\n",
    "\n",
    "class Heapq:\n",
    "    \n",
    "    def __init__(self, nums, heap = [], lenght = None):\n",
    "        self.nums = nums\n",
    "        self.heap = heap\n",
    "        self.lenght = lenght\n",
    "        \n",
    "    def heapify(self):\n",
    "\n",
    "        while self.nums:\n",
    "            self.heap_push(self.nums.pop(), self.heap)\n",
    "        self.lenght = len(self.heap)\n",
    "    \n",
    "    def heap_push(self, num, heap):\n",
    "        \n",
    "        heap.append(num)\n",
    "        ind = len(heap) - 1\n",
    "        while ind > 0 and heap[ind] < heap[(ind - 1) // 2]:\n",
    "            heap[ind], heap[(ind - 1) // 2] = heap[(ind - 1) // 2], heap[ind]\n",
    "            ind = (ind - 1) // 2\n",
    "                    \n",
    "    def heap_pop(self):\n",
    "        \n",
    "        out = self.heap[0]\n",
    "        self.heap[0], ind = self.heap[-1], 1\n",
    "        while ind < len(self.heap):\n",
    "            if ind + 1 < len(self.heap) and self.heap[ind] > self.heap[ind + 1]: ind += 1\n",
    "            if self.heap[(ind - 1)//2] > self.heap[ind]:\n",
    "                self.heap[(ind - 1)//2], self.heap[ind] = self.heap[ind], self.heap[(ind - 1)//2]\n",
    "                ind = ind * 2 + 1\n",
    "            else: break\n",
    "        self.heap.pop()\n",
    "        return out\n",
    "    \n",
    "# class pytamidal sort      \n",
    "\n",
    "class PRSort:\n",
    "    \n",
    "    def __init__(self, nums = None):\n",
    "        \n",
    "        self.nums = nums\n",
    "    \n",
    "    def sort(self):\n",
    "        heap = Heapq(self.nums, heap = [])\n",
    "        heap.heapify()\n",
    "        \n",
    "        for i in range(heap.lenght):\n",
    "            self.nums.append(heap.heap_pop())"
   ]
  },
  {
   "cell_type": "code",
   "execution_count": null,
   "id": "e5f48006",
   "metadata": {},
   "outputs": [],
   "source": [
    "# example of applying \n",
    "import numpy as np\n",
    "\n",
    "sorting_list = PRSort(nums = [np.random.randint(1, 1000) for _ in range(6)])\n",
    "sorting_list.sort()\n",
    "print(sorting_list.nums)"
   ]
  }
 ],
 "metadata": {
  "kernelspec": {
   "display_name": "Python 3 (ipykernel)",
   "language": "python",
   "name": "python3"
  },
  "language_info": {
   "codemirror_mode": {
    "name": "ipython",
    "version": 3
   },
   "file_extension": ".py",
   "mimetype": "text/x-python",
   "name": "python",
   "nbconvert_exporter": "python",
   "pygments_lexer": "ipython3",
   "version": "3.9.7"
  }
 },
 "nbformat": 4,
 "nbformat_minor": 5
}
