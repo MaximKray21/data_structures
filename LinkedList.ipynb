{
 "cells": [
  {
   "cell_type": "code",
   "execution_count": 46,
   "id": "27228791",
   "metadata": {},
   "outputs": [],
   "source": [
    "class ListNode:\n",
    "    \n",
    "    def __init__(self, next = None, val = None):\n",
    "        \n",
    "        self.next = next\n",
    "        self.val = val\n",
    "\n",
    "class LinkedList:\n",
    "    \n",
    "    def __init__(self, nums = None, head = None):\n",
    "        \n",
    "        self.nums = nums\n",
    "        self.head = head\n",
    "    \n",
    "    def print_list(self):\n",
    "        \n",
    "        head = self.head\n",
    "        for_print = [] \n",
    "        \n",
    "        while head:\n",
    "        \n",
    "            for_print.append(head.val)\n",
    "            head = head.next\n",
    "        \n",
    "        return for_print\n",
    "    \n",
    "    def generate_list(self):\n",
    "        \n",
    "        prev = ListNode(val = self.nums[0])\n",
    "        head = prev\n",
    "        for ind_num in range(1, len(self.nums)):\n",
    "            num = self.nums[ind_num]\n",
    "            cur_node = ListNode(val = num)\n",
    "            prev.next = cur_node\n",
    "            prev = cur_node\n",
    "        self.head = head\n",
    "        \n",
    "    def print_reversed_list(self):\n",
    "            \n",
    "            return print_list()[::-1]\n",
    "\n",
    "    def reverse_list(self):\n",
    "        lst_for_rev = [None]\n",
    "        \n",
    "        while True:\n",
    "            lst_for_rev.append(self.head)\n",
    "            if self.head.next:\n",
    "                self.head = self.head.next\n",
    "            else:\n",
    "                break\n",
    "        \n",
    "        while lst_for_rev[-1] != None:\n",
    "            cur = lst_for_rev.pop()\n",
    "            cur.next = lst_for_rev[-1]"
   ]
  }
 ],
 "metadata": {
  "kernelspec": {
   "display_name": "Python 3 (ipykernel)",
   "language": "python",
   "name": "python3"
  },
  "language_info": {
   "codemirror_mode": {
    "name": "ipython",
    "version": 3
   },
   "file_extension": ".py",
   "mimetype": "text/x-python",
   "name": "python",
   "nbconvert_exporter": "python",
   "pygments_lexer": "ipython3",
   "version": "3.9.7"
  }
 },
 "nbformat": 4,
 "nbformat_minor": 5
}
